{
 "cells": [
  {
   "cell_type": "code",
   "execution_count": 1,
   "metadata": {},
   "outputs": [],
   "source": [
    "from ingestion.ingestion import ingest_documents\n",
    "from elasticsearch import Elasticsearch\n",
    "from tqdm import tqdm\n",
    "import ijson"
   ]
  },
  {
   "cell_type": "code",
   "execution_count": 2,
   "metadata": {},
   "outputs": [
    {
     "data": {
      "text/plain": [
       "ObjectApiResponse({'name': 'eafd1bdda4ba', 'cluster_name': 'docker-cluster', 'cluster_uuid': '_fROzh-1TCiLOkx3rB9XIw', 'version': {'number': '8.4.3', 'build_flavor': 'default', 'build_type': 'docker', 'build_hash': '42f05b9372a9a4a470db3b52817899b99a76ee73', 'build_date': '2022-10-04T07:17:24.662462378Z', 'build_snapshot': False, 'lucene_version': '9.3.0', 'minimum_wire_compatibility_version': '7.17.0', 'minimum_index_compatibility_version': '7.0.0'}, 'tagline': 'You Know, for Search'})"
      ]
     },
     "execution_count": 2,
     "metadata": {},
     "output_type": "execute_result"
    }
   ],
   "source": [
    "es_client = Elasticsearch(\"http://127.0.0.1:9200\")\n",
    "es_client.info()"
   ]
  },
  {
   "cell_type": "code",
   "execution_count": 3,
   "metadata": {},
   "outputs": [
    {
     "name": "stderr",
     "output_type": "stream",
     "text": [
      "34472it [11:21, 50.59it/s]\n"
     ]
    }
   ],
   "source": [
    "with open(\"data/chunked_embedded_data.json\", \"rt\") as f:\n",
    "    for item in tqdm(ijson.items(f, \"item\")):\n",
    "        ingest_documents(item, es_client)"
   ]
  },
  {
   "cell_type": "code",
   "execution_count": 4,
   "metadata": {},
   "outputs": [
    {
     "name": "stderr",
     "output_type": "stream",
     "text": [
      "/opt/conda/envs/llm/lib/python3.12/site-packages/sentence_transformers/cross_encoder/CrossEncoder.py:13: TqdmWarning: IProgress not found. Please update jupyter and ipywidgets. See https://ipywidgets.readthedocs.io/en/stable/user_install.html\n",
      "  from tqdm.autonotebook import tqdm, trange\n"
     ]
    }
   ],
   "source": [
    "from utils.rag import rag"
   ]
  },
  {
   "cell_type": "code",
   "execution_count": 7,
   "metadata": {},
   "outputs": [
    {
     "data": {
      "text/plain": [
       "\"According to the original speech and given context within episode #533, Paul Conti does not pinpoint one single essential thing in healing trauma as per his discussion on The Tim Ferriss Show podcast transcripts. Instead, Dr. Paul Conti emphasizes a multifaceted approach that can include acknowledging the presence of suppressed or traumatic memories since ignoring them isn't neutral and could lead to negative outcomes: 'Dr. Paul Conti: I’ll start by saying I had no mental health education or experience at the time, so my initial response was like, “We’re very healthy.” I mean, I felt like it was my fault... Tim Ferriss.' He also discusses how trauma can impact self-perception and emphasizes a personalized healing journey. Dr. Conti speaks about his professional practice where substance use often intersected with various conditions including those related to or exacerbated by trauma:\\n\\n'...and I saw, even more strongly than that, how often trauma was playing into what [was] going on, whether that had been anxiety—I’ve done some of my early study looking at PTSD. It really captured the interest and drew me further in this field.'\\n\\nHe also touches upon societal issues but highlights personal tranquility as a path to healing: '...anything else we can do inside [to get calmer].' Dr. Conti speaks of resources that aid inner peace, although these are not specified individually at the end of this excerpt from his episode on The Tim Ferriss Show podcast transcripts in context A and B provided by you previously:\\n\\n'We will link to all of those things too.' \""
      ]
     },
     "execution_count": 7,
     "metadata": {},
     "output_type": "execute_result"
    }
   ],
   "source": [
    "rag(\n",
    "    es_client,\n",
    "    \"What is the most essential thing in healing trauma according to Paul Conti?\",\n",
    ")"
   ]
  }
 ],
 "metadata": {
  "kernelspec": {
   "display_name": "llm",
   "language": "python",
   "name": "python3"
  },
  "language_info": {
   "codemirror_mode": {
    "name": "ipython",
    "version": 3
   },
   "file_extension": ".py",
   "mimetype": "text/x-python",
   "name": "python",
   "nbconvert_exporter": "python",
   "pygments_lexer": "ipython3",
   "version": "3.12.5"
  }
 },
 "nbformat": 4,
 "nbformat_minor": 2
}
