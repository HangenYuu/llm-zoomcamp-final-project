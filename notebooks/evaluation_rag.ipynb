{
 "cells": [
  {
   "cell_type": "code",
   "execution_count": 1,
   "metadata": {},
   "outputs": [],
   "source": [
    "import pandas as pd"
   ]
  },
  {
   "cell_type": "code",
   "execution_count": 2,
   "metadata": {},
   "outputs": [
    {
     "data": {
      "text/html": [
       "<div>\n",
       "<style scoped>\n",
       "    .dataframe tbody tr th:only-of-type {\n",
       "        vertical-align: middle;\n",
       "    }\n",
       "\n",
       "    .dataframe tbody tr th {\n",
       "        vertical-align: top;\n",
       "    }\n",
       "\n",
       "    .dataframe thead th {\n",
       "        text-align: right;\n",
       "    }\n",
       "</style>\n",
       "<table border=\"1\" class=\"dataframe\">\n",
       "  <thead>\n",
       "    <tr style=\"text-align: right;\">\n",
       "      <th></th>\n",
       "      <th>id</th>\n",
       "      <th>chunk_id</th>\n",
       "      <th>question</th>\n",
       "    </tr>\n",
       "  </thead>\n",
       "  <tbody>\n",
       "    <tr>\n",
       "      <th>0</th>\n",
       "      <td>5956</td>\n",
       "      <td>290_20</td>\n",
       "      <td>What are the exact resolutions that Gretchen R...</td>\n",
       "    </tr>\n",
       "    <tr>\n",
       "      <th>1</th>\n",
       "      <td>5956</td>\n",
       "      <td>290_20</td>\n",
       "      <td>What is the name of Gretchen Rubin's book that...</td>\n",
       "    </tr>\n",
       "    <tr>\n",
       "      <th>2</th>\n",
       "      <td>5956</td>\n",
       "      <td>290_20</td>\n",
       "      <td>What feeling of helplessness did Gretchen Rubi...</td>\n",
       "    </tr>\n",
       "    <tr>\n",
       "      <th>3</th>\n",
       "      <td>5956</td>\n",
       "      <td>290_20</td>\n",
       "      <td>What specific tools was Gretchen Rubin only ab...</td>\n",
       "    </tr>\n",
       "    <tr>\n",
       "      <th>4</th>\n",
       "      <td>5956</td>\n",
       "      <td>290_20</td>\n",
       "      <td>What is the name of the experiment that Gretch...</td>\n",
       "    </tr>\n",
       "    <tr>\n",
       "      <th>...</th>\n",
       "      <td>...</td>\n",
       "      <td>...</td>\n",
       "      <td>...</td>\n",
       "    </tr>\n",
       "    <tr>\n",
       "      <th>3361</th>\n",
       "      <td>9730</td>\n",
       "      <td>46625</td>\n",
       "      <td>What were the key findings of the book that st...</td>\n",
       "    </tr>\n",
       "    <tr>\n",
       "      <th>3362</th>\n",
       "      <td>9730</td>\n",
       "      <td>46625</td>\n",
       "      <td>Could Richard Koch have universally explained ...</td>\n",
       "    </tr>\n",
       "    <tr>\n",
       "      <th>3363</th>\n",
       "      <td>9730</td>\n",
       "      <td>46625</td>\n",
       "      <td>Why was Malcolm Gladwell's thesis about 10,000...</td>\n",
       "    </tr>\n",
       "    <tr>\n",
       "      <th>3364</th>\n",
       "      <td>9730</td>\n",
       "      <td>46625</td>\n",
       "      <td>How many people out of 20, which Richard Koch ...</td>\n",
       "    </tr>\n",
       "    <tr>\n",
       "      <th>3365</th>\n",
       "      <td>9730</td>\n",
       "      <td>46625</td>\n",
       "      <td>Did 9 reasons for achieving unreasonable succe...</td>\n",
       "    </tr>\n",
       "  </tbody>\n",
       "</table>\n",
       "<p>3366 rows × 3 columns</p>\n",
       "</div>"
      ],
      "text/plain": [
       "        id chunk_id                                           question\n",
       "0     5956   290_20  What are the exact resolutions that Gretchen R...\n",
       "1     5956   290_20  What is the name of Gretchen Rubin's book that...\n",
       "2     5956   290_20  What feeling of helplessness did Gretchen Rubi...\n",
       "3     5956   290_20  What specific tools was Gretchen Rubin only ab...\n",
       "4     5956   290_20  What is the name of the experiment that Gretch...\n",
       "...    ...      ...                                                ...\n",
       "3361  9730    46625  What were the key findings of the book that st...\n",
       "3362  9730    46625  Could Richard Koch have universally explained ...\n",
       "3363  9730    46625  Why was Malcolm Gladwell's thesis about 10,000...\n",
       "3364  9730    46625  How many people out of 20, which Richard Koch ...\n",
       "3365  9730    46625  Did 9 reasons for achieving unreasonable succe...\n",
       "\n",
       "[3366 rows x 3 columns]"
      ]
     },
     "execution_count": 2,
     "metadata": {},
     "output_type": "execute_result"
    }
   ],
   "source": [
    "df = pd.read_csv(\"../data/ground-truth-retrieval.csv\")\n",
    "df"
   ]
  },
  {
   "cell_type": "markdown",
   "metadata": {},
   "source": [
    "I realized that the `id` column is wrongly labeled, and the last `chunk_id` that I manually processed is wrong. They need to be cleaned first."
   ]
  },
  {
   "cell_type": "code",
   "execution_count": 3,
   "metadata": {},
   "outputs": [
    {
     "data": {
      "text/html": [
       "<div>\n",
       "<style scoped>\n",
       "    .dataframe tbody tr th:only-of-type {\n",
       "        vertical-align: middle;\n",
       "    }\n",
       "\n",
       "    .dataframe tbody tr th {\n",
       "        vertical-align: top;\n",
       "    }\n",
       "\n",
       "    .dataframe thead th {\n",
       "        text-align: right;\n",
       "    }\n",
       "</style>\n",
       "<table border=\"1\" class=\"dataframe\">\n",
       "  <thead>\n",
       "    <tr style=\"text-align: right;\">\n",
       "      <th></th>\n",
       "      <th>id</th>\n",
       "      <th>chunk_id</th>\n",
       "      <th>question</th>\n",
       "    </tr>\n",
       "  </thead>\n",
       "  <tbody>\n",
       "    <tr>\n",
       "      <th>3360</th>\n",
       "      <td>12661</td>\n",
       "      <td>591_10</td>\n",
       "      <td>What was the initial reason that led to Zack q...</td>\n",
       "    </tr>\n",
       "    <tr>\n",
       "      <th>3361</th>\n",
       "      <td>466</td>\n",
       "      <td>466_25</td>\n",
       "      <td>What were the key findings of the book that st...</td>\n",
       "    </tr>\n",
       "    <tr>\n",
       "      <th>3362</th>\n",
       "      <td>466</td>\n",
       "      <td>466_25</td>\n",
       "      <td>Could Richard Koch have universally explained ...</td>\n",
       "    </tr>\n",
       "    <tr>\n",
       "      <th>3363</th>\n",
       "      <td>466</td>\n",
       "      <td>466_25</td>\n",
       "      <td>Why was Malcolm Gladwell's thesis about 10,000...</td>\n",
       "    </tr>\n",
       "    <tr>\n",
       "      <th>3364</th>\n",
       "      <td>466</td>\n",
       "      <td>466_25</td>\n",
       "      <td>How many people out of 20, which Richard Koch ...</td>\n",
       "    </tr>\n",
       "    <tr>\n",
       "      <th>3365</th>\n",
       "      <td>466</td>\n",
       "      <td>466_25</td>\n",
       "      <td>Did 9 reasons for achieving unreasonable succe...</td>\n",
       "    </tr>\n",
       "  </tbody>\n",
       "</table>\n",
       "</div>"
      ],
      "text/plain": [
       "         id chunk_id                                           question\n",
       "3360  12661   591_10  What was the initial reason that led to Zack q...\n",
       "3361    466   466_25  What were the key findings of the book that st...\n",
       "3362    466   466_25  Could Richard Koch have universally explained ...\n",
       "3363    466   466_25  Why was Malcolm Gladwell's thesis about 10,000...\n",
       "3364    466   466_25  How many people out of 20, which Richard Koch ...\n",
       "3365    466   466_25  Did 9 reasons for achieving unreasonable succe..."
      ]
     },
     "execution_count": 3,
     "metadata": {},
     "output_type": "execute_result"
    }
   ],
   "source": [
    "df.loc[3361:, [\"id\", \"chunk_id\"]] = [466, \"466_25\"]\n",
    "df[3360:]"
   ]
  },
  {
   "cell_type": "code",
   "execution_count": 4,
   "metadata": {},
   "outputs": [
    {
     "data": {
      "text/html": [
       "<div>\n",
       "<style scoped>\n",
       "    .dataframe tbody tr th:only-of-type {\n",
       "        vertical-align: middle;\n",
       "    }\n",
       "\n",
       "    .dataframe tbody tr th {\n",
       "        vertical-align: top;\n",
       "    }\n",
       "\n",
       "    .dataframe thead th {\n",
       "        text-align: right;\n",
       "    }\n",
       "</style>\n",
       "<table border=\"1\" class=\"dataframe\">\n",
       "  <thead>\n",
       "    <tr style=\"text-align: right;\">\n",
       "      <th></th>\n",
       "      <th>id</th>\n",
       "      <th>chunk_id</th>\n",
       "      <th>question</th>\n",
       "    </tr>\n",
       "  </thead>\n",
       "  <tbody>\n",
       "    <tr>\n",
       "      <th>0</th>\n",
       "      <td>290</td>\n",
       "      <td>290_20</td>\n",
       "      <td>What are the exact resolutions that Gretchen R...</td>\n",
       "    </tr>\n",
       "    <tr>\n",
       "      <th>1</th>\n",
       "      <td>290</td>\n",
       "      <td>290_20</td>\n",
       "      <td>What is the name of Gretchen Rubin's book that...</td>\n",
       "    </tr>\n",
       "    <tr>\n",
       "      <th>2</th>\n",
       "      <td>290</td>\n",
       "      <td>290_20</td>\n",
       "      <td>What feeling of helplessness did Gretchen Rubi...</td>\n",
       "    </tr>\n",
       "    <tr>\n",
       "      <th>3</th>\n",
       "      <td>290</td>\n",
       "      <td>290_20</td>\n",
       "      <td>What specific tools was Gretchen Rubin only ab...</td>\n",
       "    </tr>\n",
       "    <tr>\n",
       "      <th>4</th>\n",
       "      <td>290</td>\n",
       "      <td>290_20</td>\n",
       "      <td>What is the name of the experiment that Gretch...</td>\n",
       "    </tr>\n",
       "    <tr>\n",
       "      <th>...</th>\n",
       "      <td>...</td>\n",
       "      <td>...</td>\n",
       "      <td>...</td>\n",
       "    </tr>\n",
       "    <tr>\n",
       "      <th>3361</th>\n",
       "      <td>466</td>\n",
       "      <td>466_25</td>\n",
       "      <td>What were the key findings of the book that st...</td>\n",
       "    </tr>\n",
       "    <tr>\n",
       "      <th>3362</th>\n",
       "      <td>466</td>\n",
       "      <td>466_25</td>\n",
       "      <td>Could Richard Koch have universally explained ...</td>\n",
       "    </tr>\n",
       "    <tr>\n",
       "      <th>3363</th>\n",
       "      <td>466</td>\n",
       "      <td>466_25</td>\n",
       "      <td>Why was Malcolm Gladwell's thesis about 10,000...</td>\n",
       "    </tr>\n",
       "    <tr>\n",
       "      <th>3364</th>\n",
       "      <td>466</td>\n",
       "      <td>466_25</td>\n",
       "      <td>How many people out of 20, which Richard Koch ...</td>\n",
       "    </tr>\n",
       "    <tr>\n",
       "      <th>3365</th>\n",
       "      <td>466</td>\n",
       "      <td>466_25</td>\n",
       "      <td>Did 9 reasons for achieving unreasonable succe...</td>\n",
       "    </tr>\n",
       "  </tbody>\n",
       "</table>\n",
       "<p>3366 rows × 3 columns</p>\n",
       "</div>"
      ],
      "text/plain": [
       "       id chunk_id                                           question\n",
       "0     290   290_20  What are the exact resolutions that Gretchen R...\n",
       "1     290   290_20  What is the name of Gretchen Rubin's book that...\n",
       "2     290   290_20  What feeling of helplessness did Gretchen Rubi...\n",
       "3     290   290_20  What specific tools was Gretchen Rubin only ab...\n",
       "4     290   290_20  What is the name of the experiment that Gretch...\n",
       "...   ...      ...                                                ...\n",
       "3361  466   466_25  What were the key findings of the book that st...\n",
       "3362  466   466_25  Could Richard Koch have universally explained ...\n",
       "3363  466   466_25  Why was Malcolm Gladwell's thesis about 10,000...\n",
       "3364  466   466_25  How many people out of 20, which Richard Koch ...\n",
       "3365  466   466_25  Did 9 reasons for achieving unreasonable succe...\n",
       "\n",
       "[3366 rows x 3 columns]"
      ]
     },
     "execution_count": 4,
     "metadata": {},
     "output_type": "execute_result"
    }
   ],
   "source": [
    "df[\"id\"] = df[\"chunk_id\"].str.split(\"_\").str[0].astype(int)\n",
    "df"
   ]
  },
  {
   "cell_type": "code",
   "execution_count": 5,
   "metadata": {},
   "outputs": [],
   "source": [
    "documents = df.to_dict(orient=\"records\")"
   ]
  },
  {
   "cell_type": "code",
   "execution_count": 6,
   "metadata": {},
   "outputs": [
    {
     "data": {
      "text/plain": [
       "[{'id': 290,\n",
       "  'chunk_id': '290_20',\n",
       "  'question': 'What are the exact resolutions that Gretchen Rubin is referring to in relation to her daily habits?'},\n",
       " {'id': 290,\n",
       "  'chunk_id': '290_20',\n",
       "  'question': \"What is the name of Gretchen Rubin's book that 'did not find its audience'?\"},\n",
       " {'id': 290,\n",
       "  'chunk_id': '290_20',\n",
       "  'question': 'What feeling of helplessness did Gretchen Rubin experience as a result of her book being a commercial failure?'},\n",
       " {'id': 290,\n",
       "  'chunk_id': '290_20',\n",
       "  'question': 'What specific tools was Gretchen Rubin only able to access after her book failed?'},\n",
       " {'id': 290,\n",
       "  'chunk_id': '290_20',\n",
       "  'question': 'What is the name of the experiment that Gretchen Rubin was testing in her book The Happiness Project?'}]"
      ]
     },
     "execution_count": 6,
     "metadata": {},
     "output_type": "execute_result"
    }
   ],
   "source": [
    "documents[:5]"
   ]
  },
  {
   "cell_type": "markdown",
   "metadata": {},
   "source": [
    "# Retrieval evaluation"
   ]
  },
  {
   "cell_type": "code",
   "execution_count": 7,
   "metadata": {},
   "outputs": [],
   "source": [
    "def hit_rate(relevance_total):\n",
    "    cnt = 0\n",
    "\n",
    "    for line in relevance_total:\n",
    "        if True in line:\n",
    "            cnt = cnt + 1\n",
    "\n",
    "    return cnt / len(relevance_total)\n",
    "\n",
    "\n",
    "def mrr(relevance_total):\n",
    "    total_score = 0.0\n",
    "\n",
    "    for line in relevance_total:\n",
    "        for rank in range(len(line)):\n",
    "            if line[rank] == True:\n",
    "                total_score = total_score + 1 / (rank + 1)\n",
    "\n",
    "    return total_score / len(relevance_total)"
   ]
  },
  {
   "cell_type": "code",
   "execution_count": 8,
   "metadata": {},
   "outputs": [],
   "source": [
    "from tqdm import tqdm\n",
    "\n",
    "\n",
    "def evaluate(ground_truth, search_function):\n",
    "    relevance_overall = []\n",
    "    relevance_document = []\n",
    "\n",
    "    for q in tqdm(ground_truth):\n",
    "        doc_id, chunk_id = q[\"id\"], q[\"chunk_id\"]\n",
    "        results = search_function(q)\n",
    "        relevance_chunk = [(d[\"chunk_id\"] == chunk_id) for d in results]\n",
    "        relevance_doc = [(d[\"id\"] == doc_id) for d in results]\n",
    "        relevance_overall.append(relevance_chunk)\n",
    "        relevance_document.append(relevance_doc)\n",
    "\n",
    "    return {\n",
    "        \"hit_rate_overall\": hit_rate(relevance_overall),\n",
    "        \"mrr_overall\": mrr(relevance_overall),\n",
    "        \"hit_rate_document\": hit_rate(relevance_document),\n",
    "        \"mrr_document\": mrr(relevance_document),\n",
    "    }"
   ]
  },
  {
   "cell_type": "code",
   "execution_count": 9,
   "metadata": {},
   "outputs": [
    {
     "name": "stderr",
     "output_type": "stream",
     "text": [
      "/opt/conda/envs/llm/lib/python3.12/site-packages/sentence_transformers/cross_encoder/CrossEncoder.py:13: TqdmWarning: IProgress not found. Please update jupyter and ipywidgets. See https://ipywidgets.readthedocs.io/en/stable/user_install.html\n",
      "  from tqdm.autonotebook import tqdm, trange\n"
     ]
    }
   ],
   "source": [
    "import sys\n",
    "import os\n",
    "\n",
    "sys.path.append(os.path.abspath(os.path.join(os.path.curdir, \"..\")))\n",
    "from utils.rag import elastic_keyword_search, elastic_semantic_search"
   ]
  },
  {
   "cell_type": "code",
   "execution_count": 10,
   "metadata": {},
   "outputs": [
    {
     "name": "stderr",
     "output_type": "stream",
     "text": [
      "/opt/conda/envs/llm/lib/python3.12/site-packages/transformers/tokenization_utils_base.py:1601: FutureWarning: `clean_up_tokenization_spaces` was not set. It will be set to `True` by default. This behavior will be depracted in transformers v4.45, and will be then set to `False` by default. For more details check this issue: https://github.com/huggingface/transformers/issues/31884\n",
      "  warnings.warn(\n"
     ]
    }
   ],
   "source": [
    "from sentence_transformers import SentenceTransformer\n",
    "\n",
    "model = SentenceTransformer(\"multi-qa-mpnet-base-cos-v1\")"
   ]
  },
  {
   "cell_type": "code",
   "execution_count": 11,
   "metadata": {},
   "outputs": [
    {
     "data": {
      "text/plain": [
       "ObjectApiResponse({'name': '75e558d7ad26', 'cluster_name': 'docker-cluster', 'cluster_uuid': 'hz3rz7BgQ2CimtW7H8da-A', 'version': {'number': '8.4.3', 'build_flavor': 'default', 'build_type': 'docker', 'build_hash': '42f05b9372a9a4a470db3b52817899b99a76ee73', 'build_date': '2022-10-04T07:17:24.662462378Z', 'build_snapshot': False, 'lucene_version': '9.3.0', 'minimum_wire_compatibility_version': '7.17.0', 'minimum_index_compatibility_version': '7.0.0'}, 'tagline': 'You Know, for Search'})"
      ]
     },
     "execution_count": 11,
     "metadata": {},
     "output_type": "execute_result"
    }
   ],
   "source": [
    "from elasticsearch import Elasticsearch\n",
    "\n",
    "\n",
    "es_client = Elasticsearch(\"http://127.0.0.1:9200\")\n",
    "es_client.info()"
   ]
  },
  {
   "cell_type": "code",
   "execution_count": 12,
   "metadata": {},
   "outputs": [
    {
     "data": {
      "text/plain": [
       "HeadApiResponse(True)"
      ]
     },
     "execution_count": 12,
     "metadata": {},
     "output_type": "execute_result"
    }
   ],
   "source": [
    "from utils.constants import INDEX_NAME\n",
    "\n",
    "\n",
    "es_client.indices.exists(index=INDEX_NAME)"
   ]
  },
  {
   "cell_type": "code",
   "execution_count": 13,
   "metadata": {},
   "outputs": [
    {
     "name": "stderr",
     "output_type": "stream",
     "text": [
      "100%|██████████| 3366/3366 [00:31<00:00, 105.22it/s]\n",
      "100%|██████████| 3366/3366 [06:39<00:00,  8.44it/s]\n"
     ]
    }
   ],
   "source": [
    "keyword_results = evaluate(\n",
    "    documents, lambda x: elastic_keyword_search(es_client, x[\"question\"])\n",
    ")\n",
    "semantic_results = evaluate(\n",
    "    documents, lambda x: elastic_semantic_search(es_client, x[\"question\"], model)\n",
    ")"
   ]
  },
  {
   "cell_type": "code",
   "execution_count": 14,
   "metadata": {},
   "outputs": [
    {
     "data": {
      "text/plain": [
       "{'hit_rate_overall': 0.7890671420083185,\n",
       " 'mrr_overall': 1.0368785898197679,\n",
       " 'hit_rate_document': 0.8722519310754605,\n",
       " 'mrr_document': 1.571390374331495}"
      ]
     },
     "execution_count": 14,
     "metadata": {},
     "output_type": "execute_result"
    }
   ],
   "source": [
    "keyword_results"
   ]
  },
  {
   "cell_type": "code",
   "execution_count": 15,
   "metadata": {},
   "outputs": [
    {
     "data": {
      "text/plain": [
       "{'hit_rate_overall': 0.3820558526440879,\n",
       " 'mrr_overall': 0.44081501287383695,\n",
       " 'hit_rate_document': 0.6316102198455139,\n",
       " 'mrr_document': 0.9488710635769462}"
      ]
     },
     "execution_count": 15,
     "metadata": {},
     "output_type": "execute_result"
    }
   ],
   "source": [
    "semantic_results"
   ]
  },
  {
   "cell_type": "code",
   "execution_count": 17,
   "metadata": {},
   "outputs": [],
   "source": [
    "import json\n",
    "\n",
    "\n",
    "with open(\"../data/keyword_eval.json\", \"w\") as f:\n",
    "    json.dump(keyword_results, f)\n",
    "\n",
    "with open(\"../data/semantic_eval.json\", \"w\") as f:\n",
    "    json.dump(semantic_results, f)"
   ]
  }
 ],
 "metadata": {
  "kernelspec": {
   "display_name": "llm",
   "language": "python",
   "name": "python3"
  },
  "language_info": {
   "codemirror_mode": {
    "name": "ipython",
    "version": 3
   },
   "file_extension": ".py",
   "mimetype": "text/x-python",
   "name": "python",
   "nbconvert_exporter": "python",
   "pygments_lexer": "ipython3",
   "version": "3.12.5"
  }
 },
 "nbformat": 4,
 "nbformat_minor": 2
}
